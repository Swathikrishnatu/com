{
 "cells": [
  {
   "cell_type": "markdown",
   "id": "f9908c85",
   "metadata": {},
   "source": [
    "# Case Study on Correlation and Regression"
   ]
  },
  {
   "cell_type": "markdown",
   "id": "6722ef0f",
   "metadata": {},
   "source": [
    "\n",
    "A textile company regularly spent money on five advertising companies for their \n",
    "ads. (Dataset added along with)"
   ]
  },
  {
   "cell_type": "code",
   "execution_count": 1,
   "id": "016ca7da",
   "metadata": {},
   "outputs": [],
   "source": [
    "import pandas as pd\n",
    "import numpy as np\n",
    "import matplotlib.pyplot as plt\n",
    "import seaborn as sns"
   ]
  },
  {
   "cell_type": "code",
   "execution_count": 2,
   "id": "2369841d",
   "metadata": {},
   "outputs": [
    {
     "data": {
      "text/html": [
       "<div>\n",
       "<style scoped>\n",
       "    .dataframe tbody tr th:only-of-type {\n",
       "        vertical-align: middle;\n",
       "    }\n",
       "\n",
       "    .dataframe tbody tr th {\n",
       "        vertical-align: top;\n",
       "    }\n",
       "\n",
       "    .dataframe thead th {\n",
       "        text-align: right;\n",
       "    }\n",
       "</style>\n",
       "<table border=\"1\" class=\"dataframe\">\n",
       "  <thead>\n",
       "    <tr style=\"text-align: right;\">\n",
       "      <th></th>\n",
       "      <th>Unnamed: 0</th>\n",
       "      <th>Clothing ID</th>\n",
       "      <th>Age</th>\n",
       "      <th>Title</th>\n",
       "      <th>Review Text</th>\n",
       "      <th>Rating</th>\n",
       "      <th>Recommended IND</th>\n",
       "      <th>Positive Feedback Count</th>\n",
       "      <th>Division Name</th>\n",
       "      <th>Department Name</th>\n",
       "      <th>Class Name</th>\n",
       "    </tr>\n",
       "  </thead>\n",
       "  <tbody>\n",
       "    <tr>\n",
       "      <th>0</th>\n",
       "      <td>0</td>\n",
       "      <td>767</td>\n",
       "      <td>33</td>\n",
       "      <td>NaN</td>\n",
       "      <td>Absolutely wonderful - silky and sexy and comf...</td>\n",
       "      <td>4</td>\n",
       "      <td>1</td>\n",
       "      <td>0</td>\n",
       "      <td>Initmates</td>\n",
       "      <td>Intimate</td>\n",
       "      <td>Intimates</td>\n",
       "    </tr>\n",
       "    <tr>\n",
       "      <th>1</th>\n",
       "      <td>1</td>\n",
       "      <td>1080</td>\n",
       "      <td>34</td>\n",
       "      <td>NaN</td>\n",
       "      <td>Love this dress!  it's sooo pretty.  i happene...</td>\n",
       "      <td>5</td>\n",
       "      <td>1</td>\n",
       "      <td>4</td>\n",
       "      <td>General</td>\n",
       "      <td>Dresses</td>\n",
       "      <td>Dresses</td>\n",
       "    </tr>\n",
       "    <tr>\n",
       "      <th>2</th>\n",
       "      <td>2</td>\n",
       "      <td>1077</td>\n",
       "      <td>60</td>\n",
       "      <td>Some major design flaws</td>\n",
       "      <td>I had such high hopes for this dress and reall...</td>\n",
       "      <td>3</td>\n",
       "      <td>0</td>\n",
       "      <td>0</td>\n",
       "      <td>General</td>\n",
       "      <td>Dresses</td>\n",
       "      <td>Dresses</td>\n",
       "    </tr>\n",
       "    <tr>\n",
       "      <th>3</th>\n",
       "      <td>3</td>\n",
       "      <td>1049</td>\n",
       "      <td>50</td>\n",
       "      <td>My favorite buy!</td>\n",
       "      <td>I love, love, love this jumpsuit. it's fun, fl...</td>\n",
       "      <td>5</td>\n",
       "      <td>1</td>\n",
       "      <td>0</td>\n",
       "      <td>General Petite</td>\n",
       "      <td>Bottoms</td>\n",
       "      <td>Pants</td>\n",
       "    </tr>\n",
       "    <tr>\n",
       "      <th>4</th>\n",
       "      <td>4</td>\n",
       "      <td>847</td>\n",
       "      <td>47</td>\n",
       "      <td>Flattering shirt</td>\n",
       "      <td>This shirt is very flattering to all due to th...</td>\n",
       "      <td>5</td>\n",
       "      <td>1</td>\n",
       "      <td>6</td>\n",
       "      <td>General</td>\n",
       "      <td>Tops</td>\n",
       "      <td>Blouses</td>\n",
       "    </tr>\n",
       "  </tbody>\n",
       "</table>\n",
       "</div>"
      ],
      "text/plain": [
       "   Unnamed: 0  Clothing ID  Age                    Title  \\\n",
       "0           0          767   33                      NaN   \n",
       "1           1         1080   34                      NaN   \n",
       "2           2         1077   60  Some major design flaws   \n",
       "3           3         1049   50         My favorite buy!   \n",
       "4           4          847   47         Flattering shirt   \n",
       "\n",
       "                                         Review Text  Rating  Recommended IND  \\\n",
       "0  Absolutely wonderful - silky and sexy and comf...       4                1   \n",
       "1  Love this dress!  it's sooo pretty.  i happene...       5                1   \n",
       "2  I had such high hopes for this dress and reall...       3                0   \n",
       "3  I love, love, love this jumpsuit. it's fun, fl...       5                1   \n",
       "4  This shirt is very flattering to all due to th...       5                1   \n",
       "\n",
       "   Positive Feedback Count   Division Name Department Name Class Name  \n",
       "0                        0       Initmates        Intimate  Intimates  \n",
       "1                        4         General         Dresses    Dresses  \n",
       "2                        0         General         Dresses    Dresses  \n",
       "3                        0  General Petite         Bottoms      Pants  \n",
       "4                        6         General            Tops    Blouses  "
      ]
     },
     "execution_count": 2,
     "metadata": {},
     "output_type": "execute_result"
    }
   ],
   "source": [
    "data = pd.read_csv(r\"C:\\Users\\abhil\\Downloads\\Womens Clothing E-Commerce Reviews.csv\")\n",
    "data.head()"
   ]
  },
  {
   "cell_type": "code",
   "execution_count": 3,
   "id": "9091643a",
   "metadata": {},
   "outputs": [
    {
     "data": {
      "text/html": [
       "<div>\n",
       "<style scoped>\n",
       "    .dataframe tbody tr th:only-of-type {\n",
       "        vertical-align: middle;\n",
       "    }\n",
       "\n",
       "    .dataframe tbody tr th {\n",
       "        vertical-align: top;\n",
       "    }\n",
       "\n",
       "    .dataframe thead th {\n",
       "        text-align: right;\n",
       "    }\n",
       "</style>\n",
       "<table border=\"1\" class=\"dataframe\">\n",
       "  <thead>\n",
       "    <tr style=\"text-align: right;\">\n",
       "      <th></th>\n",
       "      <th>Clothing ID</th>\n",
       "      <th>Age</th>\n",
       "      <th>Title</th>\n",
       "      <th>Review Text</th>\n",
       "      <th>Rating</th>\n",
       "      <th>Recommended IND</th>\n",
       "      <th>Positive Feedback Count</th>\n",
       "      <th>Division Name</th>\n",
       "      <th>Department Name</th>\n",
       "      <th>Class Name</th>\n",
       "    </tr>\n",
       "  </thead>\n",
       "  <tbody>\n",
       "    <tr>\n",
       "      <th>0</th>\n",
       "      <td>767</td>\n",
       "      <td>33</td>\n",
       "      <td>NaN</td>\n",
       "      <td>Absolutely wonderful - silky and sexy and comf...</td>\n",
       "      <td>4</td>\n",
       "      <td>1</td>\n",
       "      <td>0</td>\n",
       "      <td>Initmates</td>\n",
       "      <td>Intimate</td>\n",
       "      <td>Intimates</td>\n",
       "    </tr>\n",
       "    <tr>\n",
       "      <th>1</th>\n",
       "      <td>1080</td>\n",
       "      <td>34</td>\n",
       "      <td>NaN</td>\n",
       "      <td>Love this dress!  it's sooo pretty.  i happene...</td>\n",
       "      <td>5</td>\n",
       "      <td>1</td>\n",
       "      <td>4</td>\n",
       "      <td>General</td>\n",
       "      <td>Dresses</td>\n",
       "      <td>Dresses</td>\n",
       "    </tr>\n",
       "    <tr>\n",
       "      <th>2</th>\n",
       "      <td>1077</td>\n",
       "      <td>60</td>\n",
       "      <td>Some major design flaws</td>\n",
       "      <td>I had such high hopes for this dress and reall...</td>\n",
       "      <td>3</td>\n",
       "      <td>0</td>\n",
       "      <td>0</td>\n",
       "      <td>General</td>\n",
       "      <td>Dresses</td>\n",
       "      <td>Dresses</td>\n",
       "    </tr>\n",
       "    <tr>\n",
       "      <th>3</th>\n",
       "      <td>1049</td>\n",
       "      <td>50</td>\n",
       "      <td>My favorite buy!</td>\n",
       "      <td>I love, love, love this jumpsuit. it's fun, fl...</td>\n",
       "      <td>5</td>\n",
       "      <td>1</td>\n",
       "      <td>0</td>\n",
       "      <td>General Petite</td>\n",
       "      <td>Bottoms</td>\n",
       "      <td>Pants</td>\n",
       "    </tr>\n",
       "    <tr>\n",
       "      <th>4</th>\n",
       "      <td>847</td>\n",
       "      <td>47</td>\n",
       "      <td>Flattering shirt</td>\n",
       "      <td>This shirt is very flattering to all due to th...</td>\n",
       "      <td>5</td>\n",
       "      <td>1</td>\n",
       "      <td>6</td>\n",
       "      <td>General</td>\n",
       "      <td>Tops</td>\n",
       "      <td>Blouses</td>\n",
       "    </tr>\n",
       "  </tbody>\n",
       "</table>\n",
       "</div>"
      ],
      "text/plain": [
       "   Clothing ID  Age                    Title  \\\n",
       "0          767   33                      NaN   \n",
       "1         1080   34                      NaN   \n",
       "2         1077   60  Some major design flaws   \n",
       "3         1049   50         My favorite buy!   \n",
       "4          847   47         Flattering shirt   \n",
       "\n",
       "                                         Review Text  Rating  Recommended IND  \\\n",
       "0  Absolutely wonderful - silky and sexy and comf...       4                1   \n",
       "1  Love this dress!  it's sooo pretty.  i happene...       5                1   \n",
       "2  I had such high hopes for this dress and reall...       3                0   \n",
       "3  I love, love, love this jumpsuit. it's fun, fl...       5                1   \n",
       "4  This shirt is very flattering to all due to th...       5                1   \n",
       "\n",
       "   Positive Feedback Count   Division Name Department Name Class Name  \n",
       "0                        0       Initmates        Intimate  Intimates  \n",
       "1                        4         General         Dresses    Dresses  \n",
       "2                        0         General         Dresses    Dresses  \n",
       "3                        0  General Petite         Bottoms      Pants  \n",
       "4                        6         General            Tops    Blouses  "
      ]
     },
     "execution_count": 3,
     "metadata": {},
     "output_type": "execute_result"
    }
   ],
   "source": [
    "data = pd.read_csv(r\"C:\\Users\\abhil\\Downloads\\Womens Clothing E-Commerce Reviews.csv\",index_col ='Unnamed: 0')\n",
    "data.head()"
   ]
  },
  {
   "cell_type": "code",
   "execution_count": 4,
   "id": "fb73f720",
   "metadata": {},
   "outputs": [
    {
     "data": {
      "text/plain": [
       "(23486, 10)"
      ]
     },
     "execution_count": 4,
     "metadata": {},
     "output_type": "execute_result"
    }
   ],
   "source": [
    "data.shape"
   ]
  },
  {
   "cell_type": "code",
   "execution_count": 5,
   "id": "11d6893b",
   "metadata": {},
   "outputs": [
    {
     "data": {
      "text/plain": [
       "Index(['Clothing ID', 'Age', 'Title', 'Review Text', 'Rating',\n",
       "       'Recommended IND', 'Positive Feedback Count', 'Division Name',\n",
       "       'Department Name', 'Class Name'],\n",
       "      dtype='object')"
      ]
     },
     "execution_count": 5,
     "metadata": {},
     "output_type": "execute_result"
    }
   ],
   "source": [
    "data.columns"
   ]
  },
  {
   "cell_type": "code",
   "execution_count": 6,
   "id": "333c1f27",
   "metadata": {},
   "outputs": [
    {
     "name": "stdout",
     "output_type": "stream",
     "text": [
      "<class 'pandas.core.frame.DataFrame'>\n",
      "Int64Index: 23486 entries, 0 to 23485\n",
      "Data columns (total 10 columns):\n",
      " #   Column                   Non-Null Count  Dtype \n",
      "---  ------                   --------------  ----- \n",
      " 0   Clothing ID              23486 non-null  int64 \n",
      " 1   Age                      23486 non-null  int64 \n",
      " 2   Title                    19676 non-null  object\n",
      " 3   Review Text              22641 non-null  object\n",
      " 4   Rating                   23486 non-null  int64 \n",
      " 5   Recommended IND          23486 non-null  int64 \n",
      " 6   Positive Feedback Count  23486 non-null  int64 \n",
      " 7   Division Name            23472 non-null  object\n",
      " 8   Department Name          23472 non-null  object\n",
      " 9   Class Name               23472 non-null  object\n",
      "dtypes: int64(5), object(5)\n",
      "memory usage: 2.0+ MB\n"
     ]
    }
   ],
   "source": [
    "data.info()"
   ]
  },
  {
   "cell_type": "code",
   "execution_count": 7,
   "id": "0d28c161",
   "metadata": {},
   "outputs": [
    {
     "data": {
      "text/plain": [
       "Clothing ID                   0\n",
       "Age                           0\n",
       "Title                      3810\n",
       "Review Text                 845\n",
       "Rating                        0\n",
       "Recommended IND               0\n",
       "Positive Feedback Count       0\n",
       "Division Name                14\n",
       "Department Name              14\n",
       "Class Name                   14\n",
       "dtype: int64"
      ]
     },
     "execution_count": 7,
     "metadata": {},
     "output_type": "execute_result"
    }
   ],
   "source": [
    "data.isna().sum()"
   ]
  },
  {
   "cell_type": "code",
   "execution_count": 8,
   "id": "ddfeaf4b",
   "metadata": {},
   "outputs": [],
   "source": [
    "data = data[~data['Review Text'].isnull()]"
   ]
  },
  {
   "cell_type": "code",
   "execution_count": 9,
   "id": "53d54ec2",
   "metadata": {},
   "outputs": [
    {
     "data": {
      "text/plain": [
       "Clothing ID                   0\n",
       "Age                           0\n",
       "Title                      2966\n",
       "Review Text                   0\n",
       "Rating                        0\n",
       "Recommended IND               0\n",
       "Positive Feedback Count       0\n",
       "Division Name                13\n",
       "Department Name              13\n",
       "Class Name                   13\n",
       "dtype: int64"
      ]
     },
     "execution_count": 9,
     "metadata": {},
     "output_type": "execute_result"
    }
   ],
   "source": [
    "## Checking missing values in the dataset\n",
    "data.isnull().sum()"
   ]
  },
  {
   "cell_type": "code",
   "execution_count": 10,
   "id": "d93810f4",
   "metadata": {},
   "outputs": [],
   "source": [
    "data.drop(['Title'],axis=1,inplace=True)"
   ]
  },
  {
   "cell_type": "code",
   "execution_count": 11,
   "id": "8f79eded",
   "metadata": {},
   "outputs": [],
   "source": [
    "## Filling missing values in Division Name, Department Name and Class Name using their respective mode."
   ]
  },
  {
   "cell_type": "code",
   "execution_count": 17,
   "id": "9203c199",
   "metadata": {},
   "outputs": [],
   "source": [
    "def fillna(data,col):\n",
    "    return data[col].fillna(data[col].mode()[0],inplace=True)"
   ]
  },
  {
   "cell_type": "code",
   "execution_count": 18,
   "id": "63179b7e",
   "metadata": {},
   "outputs": [],
   "source": [
    "missing_cols=[\"Division Name\",\"Department Name\",\"Class Name\"]"
   ]
  },
  {
   "cell_type": "code",
   "execution_count": 19,
   "id": "9b70d94d",
   "metadata": {},
   "outputs": [],
   "source": [
    "for i in missing_cols:\n",
    "    fillna(data,i)"
   ]
  },
  {
   "cell_type": "code",
   "execution_count": 20,
   "id": "e698e816",
   "metadata": {},
   "outputs": [
    {
     "data": {
      "text/plain": [
       "Clothing ID                0\n",
       "Age                        0\n",
       "Review Text                0\n",
       "Rating                     0\n",
       "Recommended IND            0\n",
       "Positive Feedback Count    0\n",
       "Division Name              0\n",
       "Department Name            0\n",
       "Class Name                 0\n",
       "dtype: int64"
      ]
     },
     "execution_count": 20,
     "metadata": {},
     "output_type": "execute_result"
    }
   ],
   "source": [
    "data.isnull().sum()"
   ]
  },
  {
   "cell_type": "code",
   "execution_count": null,
   "id": "dd889e5e",
   "metadata": {},
   "outputs": [],
   "source": [
    "handling outliers"
   ]
  },
  {
   "cell_type": "code",
   "execution_count": 34,
   "id": "8536d6aa",
   "metadata": {},
   "outputs": [
    {
     "data": {
      "image/png": "[encoded data removed]",
      "text/plain": [
       "<Figure size 1080x720 with 1 Axes>"
      ]
     },
     "metadata": {
      "needs_background": "light"
     },
     "output_type": "display_data"
    }
   ],
   "source": [
    "data.boxplot(figsize=(15,10))\n",
    "plt.show()"
   ]
  },
  {
   "cell_type": "markdown",
   "id": "72e70a67",
   "metadata": {},
   "source": [
    "handling outlier in clothing"
   ]
  },
  {
   "cell_type": "code",
   "execution_count": 24,
   "id": "72d010c8",
   "metadata": {},
   "outputs": [
    {
     "name": "stdout",
     "output_type": "stream",
     "text": [
      "861.0\n",
      "936.0\n",
      "1078.0\n",
      "535.5\n",
      "1403.5\n"
     ]
    }
   ],
   "source": [
    "Q1=np.percentile(data['Clothing ID'],25, interpolation ='midpoint')\n",
    "print(Q1)\n",
    "Q2=np.percentile(data['Clothing ID'],50, interpolation ='midpoint')\n",
    "print(Q2)\n",
    "Q3=np.percentile(data['Clothing ID'],75, interpolation ='midpoint')\n",
    "print(Q3)\n",
    "IQR =Q3-Q1\n",
    "IQR\n",
    "low_limit = Q1-1.5*IQR\n",
    "print(low_limit)\n",
    "upper_limit =Q3+1.5*IQR\n",
    "print(upper_limit)"
   ]
  },
  {
   "cell_type": "code",
   "execution_count": 25,
   "id": "8fe7c14d",
   "metadata": {},
   "outputs": [
    {
     "name": "stdout",
     "output_type": "stream",
     "text": [
      "[4, 89, 368, 368, 368, 126, 523, 329, 305, 127, 127, 127, 127, 127, 127, 149, 149, 204, 252, 252, 117, 117, 252, 252, 252, 252, 252, 252, 252, 117, 252, 252, 117, 245, 245, 2, 299, 80, 154, 154, 154, 158, 154, 154, 154, 154, 154, 154, 197, 59, 235, 59, 235, 230, 442, 442, 442, 411, 411, 411, 411, 411, 424, 485, 424, 115, 115, 434, 178, 225, 225, 225, 398, 225, 225, 431, 225, 34, 481, 481, 481, 481, 481, 481, 481, 371, 206, 321, 164, 164, 63, 160, 146, 146, 146, 146, 129, 129, 129, 129, 129, 418, 129, 418, 129, 129, 129, 517, 132, 132, 132, 132, 176, 248, 176, 248, 176, 176, 248, 176, 341, 341, 96, 14, 18, 282, 282, 282, 52, 282, 282, 282, 282, 282, 282, 282, 282, 282, 282, 282, 282, 282, 52, 282, 282, 282, 282, 282, 282, 282, 282, 282, 282, 282, 282, 282, 282, 282, 282, 282, 282, 282, 21, 491, 521, 486, 486, 20, 212, 429, 288, 302, 302, 505, 505, 374, 153, 505, 505, 374, 374, 374, 374, 285, 506, 412, 506, 506, 506, 506, 380, 380, 380, 380, 380, 512, 380, 422, 422, 422, 458, 468, 433, 433, 308, 464, 232, 232, 135, 135, 135, 135, 460, 460, 460, 460, 460, 460, 460, 460, 460, 460, 460, 460, 460, 448, 460, 460, 257, 257, 257, 270, 257, 257, 257, 257, 257, 257, 319, 121, 121, 121, 121, 121, 121, 144, 144, 144, 144, 56, 144, 173, 144, 413, 203, 107, 107, 107, 107, 107, 107, 107, 107, 495, 50, 495, 381, 381, 381, 381, 381, 273, 381, 381, 381, 381, 306, 327, 327, 306, 327, 463, 463, 363, 463, 463, 463, 363, 363, 334, 334, 373, 238, 404, 404, 404, 272, 462, 462, 462, 330, 155, 155, 155, 155, 155, 155, 155, 155, 155, 155, 155, 155, 155, 35, 35, 35, 410, 207, 211, 392, 392, 392, 201, 525, 5, 494, 138, 494, 360, 360, 360, 360, 385, 385, 246, 295, 295, 216, 295, 295, 170, 170, 150, 170, 170, 170, 150, 150, 150, 150, 336, 124, 124, 124, 336, 124, 124, 336, 336, 292, 294, 294, 294, 294, 292, 294, 292, 294, 179, 255, 255, 384, 255, 313, 352, 255, 251, 251, 251, 122, 251, 122, 251, 251, 251, 251, 191, 251, 251, 251, 191, 251, 251, 68, 511, 511, 511, 68, 13, 324, 366, 114, 340, 409, 183, 183, 118, 183, 183, 151, 502, 338, 30, 502, 439, 439, 439, 116, 116, 116, 116, 116, 105, 465, 475, 405, 189, 189, 346, 88, 516, 516, 137, 478, 478, 478, 478, 396, 396, 406, 406, 406, 406, 472, 472, 472, 47, 323, 472, 472, 71, 427, 177, 365, 435, 177, 70, 435, 177, 17, 365, 435, 113, 134, 134, 134, 205, 510, 510, 205, 510, 407, 397, 397, 407, 407, 312, 247, 260, 496, 243, 243, 243, 260, 260, 279, 279, 260, 243, 260, 260, 279, 279, 260, 260, 279, 260, 260, 279, 260, 260, 260, 260, 348, 359, 283, 283, 283, 283, 83, 61, 61, 57, 38, 265, 38, 265, 414, 133, 133, 318, 318, 72, 162, 162, 399, 219, 261, 498, 498, 498, 498, 376, 147, 376, 86, 376, 264, 147, 147, 131, 131, 131, 131, 131, 148, 148, 148, 254, 254, 254, 254, 254, 254, 254, 254, 254, 157, 157, 157, 87, 456, 456, 477, 456, 209, 315, 315, 22, 125, 437, 437, 125, 437, 119, 119, 119, 172, 172, 172, 172, 172, 172, 172, 172, 12, 356, 403, 403, 90, 90, 90, 90, 90, 208, 90, 90, 90, 90, 90, 90, 90, 90, 90, 375, 111, 375, 375, 375, 375, 375, 375, 375, 375, 375, 375, 375, 375, 375, 375, 375, 375, 375, 375, 141, 518, 518, 333, 333, 333, 333, 196, 196, 196, 78, 196, 79, 196, 473, 473, 303, 501, 501, 501, 501, 519, 287, 287, 91, 287, 287, 186, 301, 301, 301, 301, 110, 112, 377, 377, 377, 377, 377, 112, 377, 377, 377, 488, 258, 509, 509, 509, 509, 471, 415, 45, 267, 48, 175, 104, 370, 28, 370, 210, 304, 215, 215, 215, 215, 428, 423, 215, 215, 215, 215, 215, 300, 300, 300, 300, 300, 300, 300, 300, 300, 300, 300, 300, 300, 300, 74, 444, 218, 444, 103, 347, 98, 167, 263, 167, 167, 167, 167, 167, 167, 393, 10, 253, 253, 253, 436, 280, 500, 492, 492, 281, 281, 281, 420, 420, 420, 420, 128, 128, 343, 128, 128, 343, 343, 128, 343, 343, 128, 25, 93, 93, 180, 180, 534, 180, 534, 185, 402, 139, 139, 139, 402, 139, 432, 174, 378, 378, 378, 378, 378, 378, 378, 480, 109, 109, 109, 109, 480, 480, 40, 40, 40, 441, 441, 332, 332, 332, 332, 332, 82, 82, 332, 332, 332, 332, 349, 194, 194, 194, 194, 194, 194, 194, 194, 194, 194, 194, 194, 194, 194, 194, 194, 466, 382, 382, 382, 382, 382, 445, 382, 382, 382, 382, 382, 382, 382, 220, 220, 438, 386, 187, 187, 187, 394, 394, 394, 394, 394, 362, 362, 65, 395, 249, 395, 249, 395, 395, 249, 249, 395, 395, 249, 249, 395, 395, 395, 27, 11, 85, 503, 256, 193, 256, 193, 256, 193, 193, 193, 193, 193, 193, 256, 193, 482, 482, 482, 482, 482, 482, 274, 482, 100, 482, 482, 482, 513, 513, 221, 328, 94, 233, 390, 390, 390, 108, 152, 268, 152, 358, 152, 268, 344, 364, 364, 364, 364, 364, 364, 364, 364, 364, 364, 364, 364, 199, 364, 3, 123, 123, 123, 123, 123, 331, 123, 123, 123, 331, 123, 331, 454, 142, 142, 73, 142, 142, 142, 145, 145, 145, 145, 417, 417, 417, 417, 62, 417, 425, 417, 417, 417, 417, 421, 417, 26, 417, 417, 8, 8, 8, 8, 8, 8, 8, 401, 37, 37, 37, 37, 528, 528, 528, 528, 528, 528, 528, 528, 229, 226, 229, 229, 229, 130, 229, 229, 229, 226, 229, 226, 229, 229, 229, 223, 223, 447, 446, 446, 524, 524, 236, 293, 293, 293, 276, 389, 320, 389, 320, 450, 450, 29, 515, 58, 66, 240, 66, 240, 240, 240, 240, 240, 240, 159, 278, 278, 278, 278, 278, 278, 278, 278, 278, 278, 278, 278, 419, 419, 286, 419, 419, 43, 474, 339, 53, 504, 76, 504, 504, 504, 504, 19, 84, 391, 391, 391, 81, 391, 391, 391, 192, 33, 483, 350, 350, 290, 290, 350, 325, 350, 350, 290, 350, 290, 290, 290, 290, 290, 350, 290, 231, 361, 440, 440, 222, 297, 440, 440, 24, 24, 24, 24, 24, 24, 24, 44, 526, 309, 184, 101, 184, 163, 163, 161, 156, 99, 188, 156, 140, 202, 202, 23, 69, 42, 42, 182, 467, 326, 326, 326, 452, 39, 39, 452, 426, 453, 453, 453, 453, 443, 195, 9, 353, 383, 383, 383, 383, 383, 479, 535, 479, 479, 535, 479, 479, 535, 479, 479, 479, 479, 479, 237, 237, 277, 237, 470, 533, 490, 269, 533, 490, 307, 46, 388, 307, 46, 307, 46, 250, 250, 241, 241, 165, 514, 165, 514, 514, 514, 514, 514, 514, 514, 275, 95, 49, 508, 520, 520, 520, 520, 520, 520, 520, 520, 508, 520, 520, 520, 520, 520, 520, 520, 520, 520, 520, 520, 520, 520, 520, 520, 520, 16, 520, 520, 520, 520, 520, 355, 242, 242, 242, 242, 242, 372, 322, 322, 461, 461, 499, 489, 489, 198, 198, 106, 67, 228, 416, 228, 228, 228, 416, 168, 168, 476, 369, 317, 166, 166, 166, 166, 166, 166, 166, 469, 493, 213, 213, 532, 532, 266, 289, 289, 314, 120, 314, 314, 484, 531, 531, 15, 15, 239, 239, 200, 200, 367, 408, 529, 529, 408, 529, 408, 408, 75, 190, 190, 51, 190, 190, 190, 190, 190, 190, 354, 41, 171, 169, 169, 169, 169, 169, 169, 169, 169, 169, 169, 169, 169, 169, 169, 169, 169, 169, 169, 169, 169, 169, 169, 169, 169, 169, 530, 169, 169, 169, 169, 169, 169, 169, 530, 527, 296, 357, 296, 357, 451, 451, 451, 357, 357, 451, 296, 357, 32, 357, 316, 449, 316, 316, 316, 316, 316, 316, 316, 316, 316, 316, 316, 316, 316, 316, 214, 291, 291, 311, 259, 224, 455, 455, 455, 455, 455, 310, 1, 1, 1, 335, 335, 497, 335, 335, 271, 7, 217, 298, 298, 298, 136, 298, 298, 136, 298, 136, 60, 400, 400, 507, 55, 227, 227, 487, 387, 345, 430, 262, 181, 262, 262, 262, 262, 262, 262, 522]\n"
     ]
    }
   ],
   "source": [
    "outlier = []\n",
    "for x in data[\"Clothing ID\"]:\n",
    "    if ((x>upper_limit) or (x<low_limit)):\n",
    "        outlier.append(x)\n",
    "print(outlier)"
   ]
  },
  {
   "cell_type": "code",
   "execution_count": 27,
   "id": "52ad453f",
   "metadata": {},
   "outputs": [
    {
     "data": {
      "text/plain": [
       "Int64Index([   29,    43,    56,    59,    61,   138,   157,   171,   216,\n",
       "              382,\n",
       "            ...\n",
       "            23425, 23435, 23438, 23449, 23457, 23461, 23463, 23469, 23471,\n",
       "            23476],\n",
       "           dtype='int64', length=1417)"
      ]
     },
     "execution_count": 27,
     "metadata": {},
     "output_type": "execute_result"
    }
   ],
   "source": [
    "ind_1 =data[\"Clothing ID\"]<low_limit\n",
    "data.loc[ind_1].index"
   ]
  },
  {
   "cell_type": "code",
   "execution_count": 28,
   "id": "2ad0d350",
   "metadata": {},
   "outputs": [],
   "source": [
    "data.drop(data.loc[ind_1].index,inplace =True)"
   ]
  },
  {
   "cell_type": "code",
   "execution_count": 31,
   "id": "08057b5b",
   "metadata": {},
   "outputs": [
    {
     "data": {
      "image/png": "[encoded data removed]",
      "text/plain": [
       "<Figure size 432x288 with 1 Axes>"
      ]
     },
     "metadata": {
      "needs_background": "light"
     },
     "output_type": "display_data"
    }
   ],
   "source": [
    "plt.boxplot(data[\"Clothing ID\"])\n",
    "plt.show()"
   ]
  },
  {
   "cell_type": "markdown",
   "id": "597ab362",
   "metadata": {},
   "source": [
    "handling outliers in age"
   ]
  },
  {
   "cell_type": "code",
   "execution_count": 35,
   "id": "6798723b",
   "metadata": {},
   "outputs": [
    {
     "name": "stdout",
     "output_type": "stream",
     "text": [
      "34.0\n",
      "41.0\n",
      "52.0\n",
      "7.0\n",
      "79.0\n"
     ]
    }
   ],
   "source": [
    "Q1=np.percentile(data['Age'],25, interpolation ='midpoint')\n",
    "print(Q1)\n",
    "Q2=np.percentile(data['Age'],50, interpolation ='midpoint')\n",
    "print(Q2)\n",
    "Q3=np.percentile(data['Age'],75, interpolation ='midpoint')\n",
    "print(Q3)\n",
    "IQR =Q3-Q1\n",
    "IQR\n",
    "low_limit = Q1-1.5*IQR\n",
    "print(low_limit)\n",
    "upper_limit =Q3+1.5*IQR\n",
    "print(upper_limit)"
   ]
  },
  {
   "cell_type": "code",
   "execution_count": 36,
   "id": "121b06ae",
   "metadata": {},
   "outputs": [
    {
     "name": "stdout",
     "output_type": "stream",
     "text": [
      "[83, 83, 83, 80, 82, 82, 83, 82, 85, 80, 85, 83, 84, 83, 83, 80, 83, 80, 80, 83, 84, 82, 82, 83, 81, 90, 85, 94, 83, 83, 86, 80, 85, 82, 89, 80, 99, 83, 83, 83, 82, 81, 91, 83, 83, 80, 91, 83, 80, 84, 83, 99, 82, 82, 83, 87, 83, 90, 83, 82, 82, 92, 91, 83, 83, 82, 85, 83, 85, 84, 83, 89, 93, 81, 94, 94, 83, 83, 82, 83, 91, 83, 83, 83, 83, 83, 87, 83, 81, 81, 83, 83, 84, 83, 83, 84, 80, 87, 83, 86]\n"
     ]
    }
   ],
   "source": [
    "outlier = []\n",
    "for x in data[\"Age\"]:\n",
    "    if ((x>upper_limit) or (x<low_limit)):\n",
    "        outlier.append(x)\n",
    "print(outlier)"
   ]
  },
  {
   "cell_type": "code",
   "execution_count": 37,
   "id": "72ea83cb",
   "metadata": {},
   "outputs": [
    {
     "data": {
      "text/plain": [
       "Int64Index([   95,   234,   277,   628,   846,   958,  1006,  1036,  1188,\n",
       "             1199,  1616,  2006,  2119,  2447,  3069,  3291,  3301,  3596,\n",
       "             3810,  3820,  4418,  4968,  5368,  5371,  5469,  5901,  5909,\n",
       "             6543,  6763,  6829,  6973,  7147,  7292,  7346,  8078,  8109,\n",
       "             8327,  8718,  8877,  9085,  9161,  9437,  9513,  9815,  9896,\n",
       "            10470, 10617, 10805, 11181, 11245, 11364, 11545, 11692, 11947,\n",
       "            12003, 12581, 12612, 12631, 13022, 13383, 14404, 14997, 15802,\n",
       "            16163, 16190, 16318, 16323, 16713, 16780, 17303, 17401, 17412,\n",
       "            17578, 17611, 18036, 18563, 18894, 18963, 19179, 19257, 19304,\n",
       "            19470, 20043, 20077, 20413, 20460, 21254, 21437, 21719, 22085,\n",
       "            22129, 22228, 22421, 22435, 22436, 22552, 22640, 22716, 22773,\n",
       "            23033],\n",
       "           dtype='int64')"
      ]
     },
     "execution_count": 37,
     "metadata": {},
     "output_type": "execute_result"
    }
   ],
   "source": [
    "ind_1 =data[\"Age\"]>upper_limit\n",
    "data.loc[ind_1].index"
   ]
  },
  {
   "cell_type": "code",
   "execution_count": 38,
   "id": "970d91bc",
   "metadata": {},
   "outputs": [],
   "source": [
    "data.drop(data.loc[ind_1].index,inplace =True)"
   ]
  },
  {
   "cell_type": "code",
   "execution_count": 56,
   "id": "84b425ba",
   "metadata": {},
   "outputs": [
    {
     "data": {
      "image/png": "[encoded data removed]",
      "text/plain": [
       "<Figure size 432x288 with 1 Axes>"
      ]
     },
     "metadata": {
      "needs_background": "light"
     },
     "output_type": "display_data"
    }
   ],
   "source": [
    "plt.boxplot(data[\"Age\"])\n",
    "plt.show()"
   ]
  },
  {
   "cell_type": "code",
   "execution_count": 41,
   "id": "4ea2c4cd",
   "metadata": {},
   "outputs": [
    {
     "name": "stdout",
     "output_type": "stream",
     "text": [
      "4.0\n",
      "5.0\n",
      "5.0\n",
      "2.5\n",
      "6.5\n"
     ]
    }
   ],
   "source": [
    "#RATING\n",
    "Q1=np.percentile(data['Rating'],25, interpolation ='midpoint')\n",
    "print(Q1)\n",
    "Q2=np.percentile(data['Rating'],50, interpolation ='midpoint')\n",
    "print(Q2)\n",
    "Q3=np.percentile(data['Rating'],75, interpolation ='midpoint')\n",
    "print(Q3)\n",
    "IQR =Q3-Q1\n",
    "IQR\n",
    "low_limit = Q1-1.5*IQR\n",
    "print(low_limit)\n",
    "upper_limit =Q3+1.5*IQR\n",
    "print(upper_limit)\n"
   ]
  },
  {
   "cell_type": "code",
   "execution_count": 42,
   "id": "b779aa0d",
   "metadata": {},
   "outputs": [
    {
     "name": "stdout",
     "output_type": "stream",
     "text": [
      "[2, 2, 2, 2, 2, 2, 2, 1, 2, 1, 1, 2, 2, 1, 2, 2, 1, 2, 2, 2, 2, 1, 1, 2, 2, 1, 2, 2, 2, 1, 2, 2, 1, 2, 2, 1, 2, 2, 2, 2, 2, 2, 2, 2, 2, 1, 2, 2, 2, 1, 2, 1, 2, 1, 2, 2, 2, 2, 1, 2, 2, 1, 2, 2, 1, 2, 2, 2, 1, 1, 2, 2, 2, 2, 2, 2, 2, 2, 2, 2, 1, 2, 2, 2, 2, 2, 2, 1, 1, 2, 2, 1, 1, 2, 2, 1, 2, 2, 2, 2, 2, 1, 2, 1, 1, 2, 1, 2, 2, 2, 2, 2, 2, 2, 2, 1, 2, 2, 2, 2, 2, 2, 2, 2, 2, 2, 2, 2, 2, 1, 1, 2, 2, 2, 1, 2, 2, 1, 1, 2, 1, 1, 2, 2, 2, 2, 1, 2, 1, 2, 2, 1, 1, 2, 1, 1, 2, 2, 2, 2, 2, 2, 1, 1, 2, 2, 2, 1, 2, 2, 1, 1, 1, 2, 2, 1, 2, 1, 2, 1, 1, 1, 2, 2, 2, 2, 2, 2, 1, 2, 2, 2, 1, 2, 1, 2, 2, 1, 1, 2, 1, 2, 2, 2, 1, 2, 1, 2, 2, 1, 2, 1, 1, 2, 2, 1, 1, 2, 2, 1, 1, 2, 2, 2, 1, 2, 2, 2, 2, 2, 2, 2, 2, 1, 1, 2, 2, 2, 2, 2, 1, 1, 2, 1, 1, 2, 2, 1, 1, 2, 1, 2, 2, 2, 2, 2, 2, 2, 2, 2, 1, 1, 2, 1, 2, 1, 1, 1, 2, 2, 2, 1, 1, 1, 2, 1, 2, 1, 1, 2, 2, 2, 1, 1, 2, 2, 1, 2, 1, 1, 1, 1, 2, 2, 2, 1, 1, 1, 1, 2, 2, 2, 2, 1, 1, 2, 2, 2, 2, 2, 1, 2, 2, 2, 1, 1, 2, 1, 2, 1, 2, 2, 2, 1, 2, 2, 2, 1, 2, 2, 2, 2, 2, 2, 1, 1, 2, 2, 2, 2, 2, 2, 1, 1, 2, 2, 2, 2, 2, 1, 2, 1, 2, 2, 1, 2, 1, 2, 2, 2, 1, 2, 2, 2, 2, 1, 2, 1, 2, 1, 2, 1, 2, 2, 2, 1, 2, 2, 2, 1, 1, 2, 2, 2, 2, 2, 2, 1, 2, 2, 1, 2, 1, 2, 1, 1, 1, 2, 1, 1, 2, 2, 1, 2, 2, 1, 2, 1, 1, 2, 2, 1, 2, 2, 2, 2, 2, 1, 2, 1, 2, 2, 2, 2, 2, 2, 1, 1, 2, 2, 1, 1, 2, 1, 2, 2, 2, 1, 1, 2, 2, 2, 2, 2, 2, 2, 2, 2, 2, 2, 2, 2, 2, 1, 1, 1, 2, 2, 2, 2, 2, 2, 2, 2, 2, 2, 1, 1, 2, 1, 1, 1, 2, 2, 1, 1, 2, 2, 2, 2, 1, 1, 1, 2, 1, 2, 2, 2, 1, 2, 2, 1, 2, 2, 1, 2, 2, 2, 1, 1, 1, 2, 2, 2, 2, 2, 2, 2, 1, 1, 2, 2, 2, 1, 2, 2, 2, 1, 1, 2, 2, 2, 1, 2, 2, 2, 1, 2, 2, 2, 2, 2, 2, 2, 2, 1, 2, 2, 2, 1, 2, 2, 1, 2, 1, 2, 1, 2, 2, 2, 1, 2, 2, 2, 2, 2, 1, 2, 1, 2, 2, 2, 2, 2, 1, 1, 1, 2, 1, 2, 2, 1, 2, 2, 1, 2, 2, 1, 2, 2, 2, 1, 2, 2, 2, 2, 2, 2, 2, 1, 2, 2, 1, 2, 1, 2, 1, 2, 1, 1, 1, 2, 2, 1, 2, 2, 2, 2, 2, 2, 2, 2, 1, 1, 2, 2, 1, 2, 2, 2, 1, 2, 2, 2, 1, 2, 2, 2, 1, 2, 1, 2, 2, 1, 2, 1, 2, 2, 2, 2, 2, 2, 1, 2, 2, 1, 2, 2, 1, 1, 2, 2, 2, 2, 2, 2, 2, 1, 1, 1, 2, 2, 2, 2, 2, 2, 1, 2, 2, 2, 1, 2, 1, 2, 2, 1, 1, 1, 2, 2, 2, 1, 2, 2, 1, 2, 1, 2, 2, 2, 2, 1, 2, 1, 2, 2, 1, 2, 2, 2, 1, 1, 2, 1, 2, 1, 1, 2, 1, 1, 1, 2, 1, 1, 2, 1, 1, 1, 2, 1, 2, 1, 1, 2, 2, 2, 2, 2, 1, 2, 2, 2, 2, 2, 2, 2, 2, 1, 1, 2, 1, 1, 1, 2, 2, 2, 2, 2, 2, 1, 2, 2, 1, 2, 2, 2, 2, 2, 2, 2, 2, 2, 2, 1, 2, 2, 2, 2, 2, 1, 2, 2, 2, 2, 2, 2, 1, 1, 2, 2, 1, 2, 2, 2, 1, 2, 2, 2, 2, 2, 1, 1, 2, 1, 2, 2, 2, 2, 1, 1, 2, 2, 1, 2, 2, 2, 2, 1, 1, 2, 2, 1, 2, 1, 1, 1, 2, 2, 1, 2, 1, 2, 1, 2, 2, 1, 2, 2, 2, 1, 2, 2, 1, 1, 2, 2, 2, 2, 2, 1, 2, 2, 1, 2, 1, 2, 2, 1, 2, 1, 1, 2, 2, 1, 2, 1, 2, 2, 1, 1, 2, 1, 1, 2, 1, 2, 1, 1, 2, 1, 2, 2, 1, 1, 2, 2, 2, 2, 2, 2, 1, 2, 1, 1, 2, 1, 2, 2, 1, 1, 2, 1, 2, 2, 2, 2, 2, 2, 2, 1, 2, 1, 2, 1, 2, 1, 1, 2, 2, 2, 2, 2, 2, 2, 2, 2, 2, 2, 2, 2, 1, 1, 2, 1, 1, 2, 2, 2, 2, 2, 2, 1, 2, 2, 2, 2, 2, 2, 2, 1, 1, 1, 1, 1, 2, 2, 2, 1, 2, 2, 2, 2, 2, 1, 2, 2, 1, 2, 2, 1, 1, 2, 2, 1, 2, 2, 1, 2, 2, 2, 1, 1, 1, 2, 2, 1, 1, 1, 2, 1, 1, 1, 2, 2, 2, 2, 1, 2, 2, 1, 2, 2, 2, 1, 2, 1, 2, 2, 1, 1, 2, 2, 2, 2, 1, 2, 2, 2, 1, 2, 2, 2, 2, 2, 2, 2, 2, 1, 2, 2, 2, 2, 2, 2, 2, 2, 2, 2, 2, 1, 1, 2, 1, 1, 2, 1, 2, 2, 1, 1, 2, 2, 2, 1, 1, 2, 2, 2, 2, 2, 1, 1, 2, 1, 2, 2, 1, 2, 1, 2, 2, 2, 2, 2, 1, 1, 2, 1, 2, 1, 2, 1, 1, 2, 2, 1, 1, 2, 2, 1, 2, 2, 2, 1, 1, 1, 2, 1, 2, 2, 1, 2, 2, 2, 2, 2, 2, 1, 2, 1, 1, 2, 2, 1, 2, 1, 1, 2, 2, 2, 2, 2, 1, 1, 1, 2, 2, 1, 1, 2, 2, 2, 2, 1, 1, 2, 1, 2, 2, 2, 2, 2, 2, 2, 2, 1, 2, 2, 1, 1, 2, 2, 2, 1, 1, 2, 1, 2, 1, 2, 2, 1, 2, 2, 1, 2, 2, 2, 1, 2, 2, 1, 2, 2, 2, 1, 1, 2, 2, 1, 1, 2, 1, 2, 2, 2, 1, 2, 2, 1, 2, 2, 2, 2, 2, 1, 2, 2, 2, 2, 1, 2, 1, 1, 2, 2, 1, 1, 2, 2, 2, 2, 1, 2, 2, 1, 2, 1, 2, 2, 1, 1, 2, 1, 2, 2, 2, 1, 2, 2, 2, 2, 2, 2, 2, 2, 2, 2, 1, 2, 2, 1, 2, 2, 2, 1, 1, 2, 2, 2, 1, 2, 1, 2, 2, 2, 2, 2, 2, 2, 2, 1, 2, 2, 2, 2, 2, 2, 2, 2, 2, 2, 2, 2, 1, 2, 2, 2, 2, 1, 2, 2, 2, 2, 2, 2, 2, 1, 2, 2, 2, 2, 2, 2, 2, 2, 2, 2, 1, 2, 2, 2, 1, 2, 1, 1, 2, 1, 2, 1, 1, 2, 2, 2, 2, 2, 1, 2, 1, 1, 1, 1, 2, 2, 2, 2, 2, 1, 2, 1, 2, 2, 2, 2, 1, 2, 2, 1, 2, 2, 2, 2, 1, 1, 2, 1, 2, 2, 1, 2, 1, 2, 2, 2, 2, 2, 2, 2, 2, 2, 1, 1, 2, 2, 1, 2, 1, 1, 2, 2, 2, 1, 2, 1, 2, 1, 2, 2, 2, 2, 2, 2, 1, 2, 2, 1, 2, 2, 1, 2, 2, 1, 1, 1, 2, 2, 2, 1, 2, 2, 2, 2, 1, 2, 2, 1, 1, 2, 2, 1, 1, 2, 1, 1, 2, 1, 2, 1, 2, 2, 2, 2, 2, 2, 1, 2, 2, 2, 2, 2, 2, 1, 2, 2, 2, 1, 1, 1, 1, 2, 2, 1, 2, 1, 1, 1, 1, 1, 1, 2, 1, 1, 2, 2, 1, 2, 2, 2, 2, 1, 1, 2, 1, 2, 1, 1, 2, 2, 1, 1, 1, 2, 2, 2, 1, 2, 1, 2, 2, 2, 2, 2, 2, 2, 2, 2, 2, 1, 2, 2, 2, 2, 1, 1, 2, 1, 1, 2, 2, 1, 2, 2, 2, 2, 1, 2, 2, 2, 1, 2, 2, 1, 1, 1, 1, 1, 1, 1, 1, 1, 1, 1, 2, 2, 1, 1, 2, 2, 2, 2, 2, 2, 2, 2, 2, 1, 2, 1, 1, 1, 2, 1, 2, 1, 1, 2, 2, 1, 1, 2, 2, 1, 1, 2, 1, 2, 1, 1, 2, 2, 2, 2, 2, 2, 2, 2, 2, 2, 1, 2, 2, 2, 2, 1, 2, 2, 2, 1, 2, 1, 1, 1, 2, 1, 2, 1, 2, 2, 2, 1, 2, 2, 2, 2, 2, 2, 2, 1, 1, 2, 1, 2, 2, 2, 1, 2, 2, 1, 2, 2, 1, 2, 2, 2, 2, 2, 2, 1, 1, 1, 2, 2, 1, 1, 2, 1, 1, 2, 1, 1, 2, 2, 1, 1, 1, 2, 2, 1, 2, 2, 1, 1, 2, 2, 2, 2, 2, 1, 2, 2, 2, 1, 2, 2, 2, 1, 1, 2, 2, 2, 1, 2, 2, 2, 1, 2, 1, 1, 1, 1, 2, 2, 2, 2, 1, 2, 2, 2, 2, 2, 2, 2, 2, 1, 2, 2, 1, 2, 1, 2, 2, 2, 2, 1, 1, 2, 1, 2, 2, 2, 2, 1, 2, 1, 2, 2, 2, 2, 2, 1, 2, 2, 2, 2, 2, 1, 1, 2, 1, 2, 1, 1, 2, 2, 2, 2, 2, 1, 2, 2, 1, 2, 2, 2, 2, 1, 2, 2, 2, 1, 2, 2, 1, 2, 1, 2, 2, 1, 2, 2, 1, 2, 1, 2, 1, 2, 1, 2, 2, 2, 2, 2, 2, 1, 2, 2, 2, 2, 2, 1, 1, 2, 2, 2, 2, 2, 2, 1, 2, 1, 2, 1, 1, 2, 1, 2, 2, 2, 1, 1, 1, 1, 2, 2, 2, 1, 2, 1, 2, 2, 2, 2, 1, 2, 1, 2, 1, 2, 2, 1, 2, 1, 2, 1, 2, 2, 2, 2, 2, 2, 1, 2, 1, 1, 2, 2, 1, 1, 2, 2, 2, 2, 1, 2, 1, 2, 1, 1, 1, 2, 1, 2, 1, 1, 2, 2, 2, 1, 1, 2, 2, 1, 1, 2, 1, 2, 2, 2, 2, 2, 1, 1, 1, 2, 1, 2, 2, 2, 1, 1, 2, 2, 2, 1, 1, 1, 2, 2, 2, 2, 1, 2, 1, 1, 2, 2, 2, 1, 2, 2, 2, 2, 1, 1, 1, 2, 2, 2, 1, 2, 2, 1, 1, 2, 2, 1, 2, 2, 2, 2, 2, 2, 1, 2, 2, 2, 1, 2, 1, 1, 2, 1, 1, 2, 1, 1, 2, 2, 1, 2, 2, 2, 2, 2, 2, 2, 1, 1, 1, 1, 1, 2, 2, 2, 1, 2, 2, 2, 2, 1, 2, 2, 2, 2, 1, 2, 2, 2, 2, 2, 2, 2, 2, 2, 2, 2, 2, 2, 1, 1, 1, 1, 2, 2, 2, 2, 2, 2, 2, 2, 2, 1, 2, 2, 2, 1, 1, 2, 2, 2, 1, 2, 1, 2, 1, 2, 2, 2, 1, 2, 1, 2, 1, 2, 2, 2, 2, 1, 2, 2, 2, 2, 2, 1, 2, 1, 2, 1, 1, 2, 1, 2, 1, 1, 2, 1, 2, 2, 1, 2, 2, 1, 2, 2, 2, 2, 2, 1, 1, 1, 2, 2, 1, 2, 1, 2, 1, 2, 2, 1, 2, 2, 2, 2, 2, 1, 2, 2, 2, 2, 1, 1, 1, 1, 2, 2, 1, 1, 2, 2, 1, 2, 1, 1, 2, 1, 2, 2, 2, 1, 1, 2, 2, 1, 2, 2, 2, 1, 2, 2, 1, 1, 2, 2, 1, 2, 2, 1, 1, 2, 2, 1, 2, 2, 2, 1, 1, 2, 2, 1, 1, 1, 1, 2, 1, 1, 2, 2, 2, 2, 1, 2, 1, 2, 2, 2, 1, 2, 2, 2, 2, 1, 1, 2, 2, 2, 1, 2, 2, 1, 2, 2, 2, 1, 2, 1, 1, 2, 1, 2, 2, 2, 1, 2, 1, 2, 2, 2, 2, 2, 2, 2, 2, 1, 1, 1, 1, 2, 2, 2, 2, 1, 2, 2, 2, 2, 2, 1, 2, 2, 2, 2, 2, 2, 1, 1, 1, 2, 2, 1, 1, 2, 2, 2, 2, 2, 1, 1, 2, 1, 2, 2, 1, 2, 1, 2, 2, 2, 2, 2, 2, 2, 2, 2, 2, 1, 1, 2, 1, 2, 2, 2, 2, 2, 2, 2, 2, 1, 1, 2, 2, 2, 2, 1, 2, 2, 2, 2, 2, 1, 2, 2, 2, 1]\n"
     ]
    }
   ],
   "source": [
    "outlier = []\n",
    "for x in data[\"Rating\"]:\n",
    "    if ((x>upper_limit) or (x<low_limit)):\n",
    "        outlier.append(x)\n",
    "print(outlier)"
   ]
  },
  {
   "cell_type": "code",
   "execution_count": 43,
   "id": "c4f206fa",
   "metadata": {},
   "outputs": [
    {
     "data": {
      "text/plain": [
       "Int64Index([    0,     1,     2,     3,     4,     6,     7,     8,     9,\n",
       "               10,\n",
       "            ...\n",
       "            23473, 23474, 23475, 23477, 23479, 23481, 23482, 23483, 23484,\n",
       "            23485],\n",
       "           dtype='int64', length=18890)"
      ]
     },
     "execution_count": 43,
     "metadata": {},
     "output_type": "execute_result"
    }
   ],
   "source": [
    "ind_1 =data[\"Rating\"]>low_limit\n",
    "data.loc[ind_1].index"
   ]
  },
  {
   "cell_type": "code",
   "execution_count": 44,
   "id": "c2c0cca7",
   "metadata": {},
   "outputs": [],
   "source": [
    "data.drop(data.loc[ind_1].index,inplace =True)"
   ]
  },
  {
   "cell_type": "code",
   "execution_count": 45,
   "id": "f0332d5b",
   "metadata": {},
   "outputs": [
    {
     "data": {
      "image/png": "[encoded data removed]",
      "text/plain": [
       "<Figure size 432x288 with 1 Axes>"
      ]
     },
     "metadata": {
      "needs_background": "light"
     },
     "output_type": "display_data"
    }
   ],
   "source": [
    "plt.boxplot(data[\"Rating\"])\n",
    "plt.show()"
   ]
  },
  {
   "cell_type": "code",
   "execution_count": 46,
   "id": "876b5ccd",
   "metadata": {},
   "outputs": [
    {
     "name": "stdout",
     "output_type": "stream",
     "text": [
      "0.0\n",
      "0.0\n",
      "0.0\n",
      "0.0\n",
      "0.0\n"
     ]
    }
   ],
   "source": [
    "#recommended ind\n",
    "Q1=np.percentile(data['Recommended IND'],25, interpolation ='midpoint')\n",
    "print(Q1)\n",
    "Q2=np.percentile(data['Recommended IND'],50, interpolation ='midpoint')\n",
    "print(Q2)\n",
    "Q3=np.percentile(data['Recommended IND'],75, interpolation ='midpoint')\n",
    "print(Q3)\n",
    "IQR =Q3-Q1\n",
    "IQR\n",
    "low_limit = Q1-1.5*IQR\n",
    "print(low_limit)\n",
    "upper_limit =Q3+1.5*IQR\n",
    "print(upper_limit)\n"
   ]
  },
  {
   "cell_type": "code",
   "execution_count": 48,
   "id": "33942df5",
   "metadata": {},
   "outputs": [
    {
     "name": "stdout",
     "output_type": "stream",
     "text": [
      "[1, 1, 1, 1, 1, 1, 1, 1, 1, 1, 1, 1, 1, 1, 1, 1, 1, 1, 1, 1, 1, 1, 1, 1, 1, 1, 1, 1, 1, 1, 1, 1, 1, 1, 1, 1, 1, 1, 1, 1, 1, 1, 1, 1, 1, 1, 1, 1, 1, 1, 1, 1, 1, 1, 1, 1, 1, 1, 1, 1, 1, 1, 1, 1, 1, 1, 1, 1, 1, 1, 1, 1, 1, 1, 1, 1, 1, 1, 1, 1, 1, 1, 1, 1, 1, 1, 1, 1, 1, 1, 1, 1, 1, 1, 1, 1, 1, 1, 1, 1, 1]\n"
     ]
    }
   ],
   "source": [
    "outlier = []\n",
    "for x in data[\"Recommended IND\"]:\n",
    "    if ((x>upper_limit) or (x<low_limit)):\n",
    "        outlier.append(x)\n",
    "print(outlier)"
   ]
  },
  {
   "cell_type": "code",
   "execution_count": 49,
   "id": "459fd79d",
   "metadata": {},
   "outputs": [
    {
     "data": {
      "text/plain": [
       "Int64Index([    5,    22,    26,    33,    68,    71,    77,    85,    88,\n",
       "               96,\n",
       "            ...\n",
       "            23375, 23389, 23390, 23391, 23405, 23406, 23424, 23427, 23437,\n",
       "            23478],\n",
       "           dtype='int64', length=2234)"
      ]
     },
     "execution_count": 49,
     "metadata": {},
     "output_type": "execute_result"
    }
   ],
   "source": [
    "ind_1 =data[\"Rating\"]>upper_limit\n",
    "data.loc[ind_1].index"
   ]
  },
  {
   "cell_type": "code",
   "execution_count": 50,
   "id": "0c3872fc",
   "metadata": {},
   "outputs": [],
   "source": [
    "data.drop(data.loc[ind_1].index,inplace =True)"
   ]
  },
  {
   "cell_type": "code",
   "execution_count": 51,
   "id": "82520360",
   "metadata": {},
   "outputs": [
    {
     "data": {
      "image/png": "[encoded data removed]",
      "text/plain": [
       "<Figure size 432x288 with 1 Axes>"
      ]
     },
     "metadata": {
      "needs_background": "light"
     },
     "output_type": "display_data"
    }
   ],
   "source": [
    "plt.boxplot(data[\"Recommended IND\"])\n",
    "plt.show()"
   ]
  },
  {
   "cell_type": "code",
   "execution_count": 54,
   "id": "c5ce2d22",
   "metadata": {},
   "outputs": [
    {
     "data": {
      "image/png": "[encoded data removed]",
      "text/plain": [
       "<Figure size 432x288 with 1 Axes>"
      ]
     },
     "metadata": {
      "needs_background": "light"
     },
     "output_type": "display_data"
    }
   ],
   "source": [
    "plt.boxplot(data['Positive Feedback Count'])\n",
    "plt.show()"
   ]
  }
 ],
 "metadata": {
  "kernelspec": {
   "display_name": "Python 3 (ipykernel)",
   "language": "python",
   "name": "python3"
  },
  "language_info": {
   "codemirror_mode": {
    "name": "ipython",
    "version": 3
   },
   "file_extension": ".py",
   "mimetype": "text/x-python",
   "name": "python",
   "nbconvert_exporter": "python",
   "pygments_lexer": "ipython3",
   "version": "3.9.12"
  }
 },
 "nbformat": 4,
 "nbformat_minor": 5
}
